{
 "cells": [
  {
   "cell_type": "code",
   "execution_count": 219,
   "metadata": {},
   "outputs": [],
   "source": [
    "users =[\n",
    "    { \"id\":0, \"name\": \"Hero\" },\n",
    "    { \"id\":1, \"name\": \"Dunn\" },\n",
    "    { \"id\":2, \"name\": \"Sue\" },\n",
    "    { \"id\":3, \"name\": \"Chi\" },\n",
    "    { \"id\":4, \"name\": \"Thor\" },\n",
    "    { \"id\":5, \"name\": \"Clive\" },\n",
    "    { \"id\":6, \"name\": \"Hicks\" },\n",
    "    { \"id\":7, \"name\": \"Devin\" },\n",
    "    { \"id\":8, \"name\": \"Kate\" },\n",
    "    { \"id\":9, \"name\": \"Klein\" }    \n",
    "]"
   ]
  },
  {
   "cell_type": "code",
   "execution_count": 220,
   "metadata": {},
   "outputs": [],
   "source": [
    "friendship = [\n",
    "    (0, 1),\n",
    "    (0, 2),\n",
    "    (1, 2),\n",
    "    (1, 3),\n",
    "    (2, 3),\n",
    "    (3, 4),\n",
    "    (4, 5),\n",
    "    (5, 6),\n",
    "    (6, 7),\n",
    "    (6, 8),\n",
    "    (7, 8),\n",
    "    (8, 9)\n",
    "]"
   ]
  },
  {
   "cell_type": "code",
   "execution_count": 221,
   "metadata": {},
   "outputs": [],
   "source": [
    "def num_friends(user):\n",
    "    '''\n",
    "    Find number of friends for a given user\n",
    "    '''\n",
    "    count = 0\n",
    "    for friend in friendship:\n",
    "        if user in friend:\n",
    "            count+=1\n",
    "    print('{} has {} friends'.format(users[user]['name'],count))"
   ]
  },
  {
   "cell_type": "code",
   "execution_count": 222,
   "metadata": {},
   "outputs": [
    {
     "name": "stdout",
     "output_type": "stream",
     "text": [
      "Chi has 3 friends\n",
      "Devin has 2 friends\n"
     ]
    }
   ],
   "source": [
    "num_friends(3)\n",
    "num_friends(7)"
   ]
  },
  {
   "cell_type": "code",
   "execution_count": 223,
   "metadata": {},
   "outputs": [],
   "source": [
    "def sort_by_num_friends():\n",
    "    '''README.md\n",
    "    Sort from \"most friends\" to \"least friends\"\n",
    "    '''\n",
    "    for user in users:\n",
    "        count = 0\n",
    "        for friend in friendship:\n",
    "            if user['id'] in friend:\n",
    "                count+=1\n",
    "        user['friends'] = count\n",
    "                \n",
    "    sorted_list = (sorted(users, key = lambda i: i['friends'], reverse = True))\n",
    "    return sorted_list"
   ]
  },
  {
   "cell_type": "code",
   "execution_count": 224,
   "metadata": {},
   "outputs": [
    {
     "data": {
      "text/plain": [
       "[{'id': 1, 'name': 'Dunn', 'friends': 3},\n",
       " {'id': 2, 'name': 'Sue', 'friends': 3},\n",
       " {'id': 3, 'name': 'Chi', 'friends': 3},\n",
       " {'id': 6, 'name': 'Hicks', 'friends': 3},\n",
       " {'id': 8, 'name': 'Kate', 'friends': 3},\n",
       " {'id': 0, 'name': 'Hero', 'friends': 2},\n",
       " {'id': 4, 'name': 'Thor', 'friends': 2},\n",
       " {'id': 5, 'name': 'Clive', 'friends': 2},\n",
       " {'id': 7, 'name': 'Devin', 'friends': 2},\n",
       " {'id': 9, 'name': 'Klein', 'friends': 1}]"
      ]
     },
     "execution_count": 224,
     "metadata": {},
     "output_type": "execute_result"
    }
   ],
   "source": [
    "sort_by_num_friends()"
   ]
  }
 ],
 "metadata": {
  "kernelspec": {
   "display_name": "Python 3",
   "language": "python",
   "name": "python3"
  },
  "language_info": {
   "codemirror_mode": {
    "name": "ipython",
    "version": 3
   },
   "file_extension": ".py",
   "mimetype": "text/x-python",
   "name": "python",
   "nbconvert_exporter": "python",
   "pygments_lexer": "ipython3",
   "version": "3.6.5"
  }
 },
 "nbformat": 4,
 "nbformat_minor": 2
}
